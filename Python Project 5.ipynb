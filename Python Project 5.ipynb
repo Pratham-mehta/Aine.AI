{
 "cells": [
  {
   "cell_type": "markdown",
   "id": "977d0408",
   "metadata": {},
   "source": [
    "#### VIPatAINEAI"
   ]
  },
  {
   "cell_type": "markdown",
   "id": "4125a373",
   "metadata": {},
   "source": [
    "## Virtual Intership Program by Aine.AI"
   ]
  },
  {
   "cell_type": "markdown",
   "id": "8a3f7281",
   "metadata": {},
   "source": [
    "<img src=\"1562645454906.jpeg\" style=\"width:50px;height:50px;margin-left:0px\"  />"
   ]
  },
  {
   "cell_type": "markdown",
   "id": "c30fb9e7",
   "metadata": {},
   "source": [
    "# Rock Paper Scissors Game"
   ]
  },
  {
   "cell_type": "markdown",
   "id": "dbfaa3fa",
   "metadata": {},
   "source": [
    "### Project: Developing 'Rock,Paper and Scissors' game using Python Programming\n",
    "### Submitted by: Pratham Mehta"
   ]
  },
  {
   "attachments": {
    "Rk.png": {
     "image/png": "[encoded data removed]"
    }
   },
   "cell_type": "markdown",
   "id": "dec61fac",
   "metadata": {},
   "source": [
    "#### Rules of the Game:\n",
    "![Rk.png](attachment:Rk.png)"
   ]
  },
  {
   "cell_type": "markdown",
   "id": "28da481b",
   "metadata": {},
   "source": [
    "1. Rock wins against scissors.\n",
    "2. Scissors win against paper.\n",
    "3. Paper wins against rock."
   ]
  },
  {
   "attachments": {},
   "cell_type": "markdown",
   "id": "27c2cbdc",
   "metadata": {},
   "source": [
    "#### Flowchart:\n",
    "<img src=\"(Rock, Paper, Scissors)Flow Chart.png\" />"
   ]
  },
  {
   "cell_type": "markdown",
   "id": "37a1cc25",
   "metadata": {},
   "source": [
    "#### Importing Random Library"
   ]
  },
  {
   "cell_type": "code",
   "execution_count": 5,
   "id": "c51f6717",
   "metadata": {},
   "outputs": [],
   "source": [
    "import random"
   ]
  },
  {
   "cell_type": "markdown",
   "id": "b2fe1ce1",
   "metadata": {},
   "source": [
    "#### Available choices"
   ]
  },
  {
   "cell_type": "code",
   "execution_count": 6,
   "id": "525943b3",
   "metadata": {},
   "outputs": [],
   "source": [
    "data = [\"rock\",\"paper\",\"scissors\"]"
   ]
  },
  {
   "cell_type": "markdown",
   "id": "8e4a87ed",
   "metadata": {},
   "source": [
    "####  Using the while loop"
   ]
  },
  {
   "cell_type": "code",
   "execution_count": 8,
   "id": "c33ee189",
   "metadata": {},
   "outputs": [
    {
     "name": "stdout",
     "output_type": "stream",
     "text": [
      "Enter your choice (rock,paper,scissors):rock\n",
      "\n",
      " User selected rock Computer selected scissors.\n",
      "\n",
      "Rock smashes scissors! User Wins!\n",
      "Wanna play again? (y/n):y\n",
      "Enter your choice (rock,paper,scissors):paper\n",
      "\n",
      " User selected paper Computer selected paper.\n",
      "\n",
      "It is a Tie!\n",
      "Wanna play again? (y/n):y\n",
      "Enter your choice (rock,paper,scissors):scissors\n",
      "\n",
      " User selected scissors Computer selected scissors.\n",
      "\n",
      "It is a Tie!\n",
      "Wanna play again? (y/n):y\n",
      "Enter your choice (rock,paper,scissors):paper\n",
      "\n",
      " User selected paper Computer selected scissors.\n",
      "\n",
      "Scissor cuts the paper! Computer wins\n",
      "Wanna play again? (y/n):n\n",
      "Thanks for playing this game\n"
     ]
    }
   ],
   "source": [
    "while True:\n",
    "    user_choice = input(\"Enter your choice (rock,paper,scissors):\")\n",
    "    computer_choice = random.choice(data)\n",
    "    print(f\"\\n User selected {user_choice} Computer selected {computer_choice}.\\n\")\n",
    "    if user_choice == computer_choice:\n",
    "        print(\"It is a Tie!\")\n",
    "    elif user_choice == \"rock\":\n",
    "        if computer_choice == \"scissors\":\n",
    "            print(\"Rock smashes scissors! User Wins!\")\n",
    "        else:\n",
    "            print(\"Paper covers the rock! Computer wins\")\n",
    "    elif user_choice == \"paper\":\n",
    "        if computer_choice == \"rock\":\n",
    "            print(\"Papers covers the rock! User wins\")\n",
    "        else:\n",
    "            print(\"Scissor cuts the paper! Computer wins\")\n",
    "    elif user_choice == \"scissors\":\n",
    "        if computer_choice == \"paper\":\n",
    "            print(\"Scissor cuts the paper! User wins\")\n",
    "        else:\n",
    "            print(\"Rock smashes the scissors! Computer wins\")\n",
    "    \n",
    "    replay = input(\"Wanna play again? (y/n):\")\n",
    "    if replay.lower()!=\"y\":\n",
    "        break\n",
    "\n",
    "print(\"Thanks for playing this game\")"
   ]
  },
  {
   "cell_type": "code",
   "execution_count": null,
   "id": "6fe13827",
   "metadata": {},
   "outputs": [],
   "source": []
  }
 ],
 "metadata": {
  "kernelspec": {
   "display_name": "Python 3",
   "language": "python",
   "name": "python3"
  },
  "language_info": {
   "codemirror_mode": {
    "name": "ipython",
    "version": 3
   },
   "file_extension": ".py",
   "mimetype": "text/x-python",
   "name": "python",
   "nbconvert_exporter": "python",
   "pygments_lexer": "ipython3",
   "version": "3.8.8"
  }
 },
 "nbformat": 4,
 "nbformat_minor": 5
}
