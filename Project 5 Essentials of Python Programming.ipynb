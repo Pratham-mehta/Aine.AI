{
 "cells": [
  {
   "cell_type": "markdown",
   "id": "12aaddbf",
   "metadata": {},
   "source": [
    "- Code cell is used for writing the code\n",
    "- Markdown is used to add details, descriptions but it does not show any coding syntax\n",
    "\n",
    "- For titles in Markdown you need to use # to showcase the heading (Just like H1....H6 in Html)"
   ]
  },
  {
   "cell_type": "markdown",
   "id": "30e13935",
   "metadata": {},
   "source": [
    "# Fundamentals of Python\n",
    "## Fundamentals of Python\n",
    "### Fundamentals of Python\n",
    "#### Fundamentals of Python\n",
    "##### Fundamentals of Python\n",
    "###### Fundamentals of Python"
   ]
  },
  {
   "cell_type": "markdown",
   "id": "e35fee14",
   "metadata": {},
   "source": [
    "- For typing the text in bold use (***) and use (Single asterix)* for Italics"
   ]
  },
  {
   "cell_type": "markdown",
   "id": "187c2852",
   "metadata": {},
   "source": [
    "- For markdown use this shortcut like (ESC+M) keys"
   ]
  },
  {
   "cell_type": "markdown",
   "id": "1c74d4d9",
   "metadata": {},
   "source": [
    "### Top Websites to learn Python:\n",
    "- https://docs.python.org/3/\n",
    "- https://www.w3schools.com/python/"
   ]
  },
  {
   "cell_type": "markdown",
   "id": "4eda8d44",
   "metadata": {},
   "source": [
    "- To run the cell use CLTRL+Enter"
   ]
  },
  {
   "cell_type": "code",
   "execution_count": 4,
   "id": "8c8e9c0b",
   "metadata": {},
   "outputs": [
    {
     "name": "stdout",
     "output_type": "stream",
     "text": [
      "I am learning Python\n",
      "I am learning Python\n"
     ]
    }
   ],
   "source": [
    "print(\"I am learning Python\")\n",
    "\n",
    "print('I am learning Python')\n",
    "# Different forms of printing python\n",
    "# Single and Double quotes are used for the strings"
   ]
  },
  {
   "cell_type": "markdown",
   "id": "2e252439",
   "metadata": {},
   "source": [
    "## Data types in Python\n",
    "\n",
    "Two Types:\n",
    "1. Basic Data types\n",
    "    - Integers\n",
    "    - Float\n",
    "    - String (text)\n",
    "    - Boolean\n",
    "2. Advanced data types\n",
    "    - Lists\n",
    "    - Dictionary\n",
    "    - Tuples\n",
    "    - Sets"
   ]
  },
  {
   "cell_type": "code",
   "execution_count": 19,
   "id": "0b53df01",
   "metadata": {},
   "outputs": [],
   "source": [
    "# Assigning some variables with some values\n",
    "# On the left side of =, we have variable names and on the right side, we have values \n",
    "# A variable is an object the value of which can vary  - variable = vary + able\n",
    "\n",
    "FName = \"Pratham\" # text or string\n",
    "LName = 'Mehta'   # text or string\n",
    "phone = 9819001133   # Don't use capital P in phone \n",
    "                     # an integer\n",
    "height = 5.11        # a float\n",
    "fresher = False     # Boolean data type should start with capital letters like (True or False) or (Yes or No) or (On or Off)\n",
    "\n",
    "# All the variable names are case sensitive. That means, phone , Phone and PHONE are three different variablles.\n",
    "# There are must be no variable name starting with a number\n",
    "# There must be no space in a variable name"
   ]
  },
  {
   "cell_type": "code",
   "execution_count": 20,
   "id": "1f951ee6",
   "metadata": {},
   "outputs": [
    {
     "data": {
      "text/plain": [
       "'Pratham'"
      ]
     },
     "execution_count": 20,
     "metadata": {},
     "output_type": "execute_result"
    }
   ],
   "source": [
    "FName  # without print() gives you the format of the data too"
   ]
  },
  {
   "cell_type": "code",
   "execution_count": 21,
   "id": "d775dfa7",
   "metadata": {},
   "outputs": [
    {
     "name": "stdout",
     "output_type": "stream",
     "text": [
      "Pratham\n"
     ]
    }
   ],
   "source": [
    "print(FName) # print() gives you the output of the data stored in the variable"
   ]
  },
  {
   "cell_type": "code",
   "execution_count": 22,
   "id": "4ab3dcca",
   "metadata": {},
   "outputs": [
    {
     "ename": "NameError",
     "evalue": "name 'Phone' is not defined",
     "output_type": "error",
     "traceback": [
      "\u001b[1;31m---------------------------------------------------------------------------\u001b[0m",
      "\u001b[1;31mNameError\u001b[0m                                 Traceback (most recent call last)",
      "\u001b[1;32m<ipython-input-22-796366448c6d>\u001b[0m in \u001b[0;36m<module>\u001b[1;34m\u001b[0m\n\u001b[1;32m----> 1\u001b[1;33m \u001b[0mPhone\u001b[0m \u001b[1;31m# Python is case sensitive\u001b[0m\u001b[1;33m\u001b[0m\u001b[1;33m\u001b[0m\u001b[0m\n\u001b[0m",
      "\u001b[1;31mNameError\u001b[0m: name 'Phone' is not defined"
     ]
    }
   ],
   "source": [
    "Phone # Python is case sensitive"
   ]
  },
  {
   "cell_type": "code",
   "execution_count": 23,
   "id": "2467f726",
   "metadata": {},
   "outputs": [],
   "source": [
    "FirstName = \"pratham\""
   ]
  },
  {
   "cell_type": "code",
   "execution_count": 25,
   "id": "ece43fb0",
   "metadata": {},
   "outputs": [
    {
     "data": {
      "text/plain": [
       "1234567890"
      ]
     },
     "execution_count": 25,
     "metadata": {},
     "output_type": "execute_result"
    }
   ],
   "source": [
    "phone = 1234567890\n",
    "phone\n",
    "# The appearance of the output is in the same sequence as the sequence of the program execution"
   ]
  },
  {
   "cell_type": "code",
   "execution_count": 33,
   "id": "b99e9b23",
   "metadata": {},
   "outputs": [
    {
     "data": {
      "text/plain": [
       "25"
      ]
     },
     "execution_count": 33,
     "metadata": {},
     "output_type": "execute_result"
    }
   ],
   "source": [
    "a * 5 # U need to delete the value from the kernel which u do not want to execute\n",
    "      # a was initialised so tht is the reason why u get the value as 25"
   ]
  },
  {
   "cell_type": "code",
   "execution_count": 34,
   "id": "068630df",
   "metadata": {},
   "outputs": [
    {
     "data": {
      "text/plain": [
       "1234567890"
      ]
     },
     "execution_count": 34,
     "metadata": {},
     "output_type": "execute_result"
    }
   ],
   "source": [
    "LName\n",
    "phone  #In python without print() statement the one with last variable declared will be printed"
   ]
  },
  {
   "cell_type": "code",
   "execution_count": 35,
   "id": "ca0c829c",
   "metadata": {},
   "outputs": [
    {
     "name": "stdout",
     "output_type": "stream",
     "text": [
      "Mehta\n",
      "1234567890\n"
     ]
    }
   ],
   "source": [
    "print(LName)\n",
    "print(phone) # To avoid this we use print() for all the Variables"
   ]
  },
  {
   "cell_type": "markdown",
   "id": "40d14381",
   "metadata": {},
   "source": [
    "## Using Type() and Typecasting"
   ]
  },
  {
   "cell_type": "code",
   "execution_count": 36,
   "id": "279a22ed",
   "metadata": {},
   "outputs": [
    {
     "data": {
      "text/plain": [
       "str"
      ]
     },
     "execution_count": 36,
     "metadata": {},
     "output_type": "execute_result"
    }
   ],
   "source": [
    "type(LName) # Used to denote the datatype of the variable"
   ]
  },
  {
   "cell_type": "code",
   "execution_count": 37,
   "id": "d8a5bbd1",
   "metadata": {},
   "outputs": [
    {
     "name": "stdout",
     "output_type": "stream",
     "text": [
      "<class 'str'>\n",
      "<class 'str'>\n",
      "<class 'int'>\n",
      "<class 'float'>\n",
      "<class 'bool'>\n"
     ]
    }
   ],
   "source": [
    "print(type(FName))\n",
    "print(type(LName))\n",
    "print(type(phone))\n",
    "print(type(height))\n",
    "print(type(fresher))"
   ]
  },
  {
   "cell_type": "code",
   "execution_count": 38,
   "id": "68e17477",
   "metadata": {},
   "outputs": [
    {
     "name": "stdout",
     "output_type": "stream",
     "text": [
      "<class 'str'> <class 'str'> <class 'int'>\n"
     ]
    }
   ],
   "source": [
    "print(type(FName), type(LName), type(phone))"
   ]
  },
  {
   "cell_type": "markdown",
   "id": "836363cb",
   "metadata": {},
   "source": [
    "## Python can work like a calculator"
   ]
  },
  {
   "cell_type": "code",
   "execution_count": 39,
   "id": "16c80187",
   "metadata": {},
   "outputs": [
    {
     "data": {
      "text/plain": [
       "30"
      ]
     },
     "execution_count": 39,
     "metadata": {},
     "output_type": "execute_result"
    }
   ],
   "source": [
    "5+6\n",
    "5*6"
   ]
  },
  {
   "cell_type": "code",
   "execution_count": 41,
   "id": "4defb71b",
   "metadata": {},
   "outputs": [
    {
     "name": "stdout",
     "output_type": "stream",
     "text": [
      "11\n",
      "-5\n",
      "30\n",
      "1.6666666666666667\n",
      "1\n",
      "9\n",
      "1\n"
     ]
    }
   ],
   "source": [
    "# mathematical operators can be applied on numerical data\n",
    "\n",
    "print(5+6) # addition\n",
    "print(5-10) # subs\n",
    "print(5*6) # multiply\n",
    "print(5/3) # divide\n",
    "print(5%2) # getting remainder\n",
    "print(3**2) # square\n",
    "print(5//3) # quotient of the division"
   ]
  },
  {
   "cell_type": "code",
   "execution_count": 42,
   "id": "2590cbd1",
   "metadata": {},
   "outputs": [
    {
     "name": "stdout",
     "output_type": "stream",
     "text": [
      "11.5\n",
      "-1.5\n"
     ]
    }
   ],
   "source": [
    "# Working with variables\n",
    "\n",
    "num1 = 5\n",
    "num2 = 6.5\n",
    "\n",
    "print(num1+num2)\n",
    "print(num1-num2)"
   ]
  },
  {
   "cell_type": "code",
   "execution_count": 43,
   "id": "c6836b4c",
   "metadata": {},
   "outputs": [
    {
     "name": "stdout",
     "output_type": "stream",
     "text": [
      "<class 'str'>\n"
     ]
    },
    {
     "ename": "TypeError",
     "evalue": "can only concatenate str (not \"int\") to str",
     "output_type": "error",
     "traceback": [
      "\u001b[1;31m---------------------------------------------------------------------------\u001b[0m",
      "\u001b[1;31mTypeError\u001b[0m                                 Traceback (most recent call last)",
      "\u001b[1;32m<ipython-input-43-61c1a0ebddf9>\u001b[0m in \u001b[0;36m<module>\u001b[1;34m\u001b[0m\n\u001b[0;32m      2\u001b[0m \u001b[0mprint\u001b[0m\u001b[1;33m(\u001b[0m\u001b[0mtype\u001b[0m\u001b[1;33m(\u001b[0m\u001b[0mnum3\u001b[0m\u001b[1;33m)\u001b[0m\u001b[1;33m)\u001b[0m\u001b[1;33m\u001b[0m\u001b[1;33m\u001b[0m\u001b[0m\n\u001b[0;32m      3\u001b[0m \u001b[1;33m\u001b[0m\u001b[0m\n\u001b[1;32m----> 4\u001b[1;33m \u001b[0mprint\u001b[0m\u001b[1;33m(\u001b[0m\u001b[0mnum3\u001b[0m \u001b[1;33m+\u001b[0m \u001b[1;36m5\u001b[0m\u001b[1;33m)\u001b[0m\u001b[1;33m\u001b[0m\u001b[1;33m\u001b[0m\u001b[0m\n\u001b[0m",
      "\u001b[1;31mTypeError\u001b[0m: can only concatenate str (not \"int\") to str"
     ]
    }
   ],
   "source": [
    "num3 = '5'\n",
    "print(type(num3)) # string datatype because declared in string datatype\n",
    "\n",
    "print(num3 + 5) # error because string can be contaneted with string only"
   ]
  },
  {
   "cell_type": "code",
   "execution_count": 44,
   "id": "ea30f3b6",
   "metadata": {},
   "outputs": [
    {
     "name": "stdout",
     "output_type": "stream",
     "text": [
      "IndiaCountry\n"
     ]
    }
   ],
   "source": [
    "# Contenation of the string using operator '+'\n",
    "text1 = 'India'\n",
    "text2 = 'Country'\n",
    "\n",
    "print(text1 + text2)"
   ]
  },
  {
   "cell_type": "code",
   "execution_count": 48,
   "id": "855b5310",
   "metadata": {},
   "outputs": [
    {
     "name": "stdout",
     "output_type": "stream",
     "text": [
      "India Country\n"
     ]
    }
   ],
   "source": [
    "print(text1 + \" \" + text2)  # with space as a string to display in better way"
   ]
  },
  {
   "cell_type": "code",
   "execution_count": 49,
   "id": "475de261",
   "metadata": {},
   "outputs": [
    {
     "name": "stdout",
     "output_type": "stream",
     "text": [
      "PrathamPrathamPrathamPrathamPratham\n"
     ]
    }
   ],
   "source": [
    "# printing the name 5 times\n",
    "print(FName * 5)  # Repeating of the string using * operator"
   ]
  },
  {
   "cell_type": "code",
   "execution_count": 50,
   "id": "10b38ed3",
   "metadata": {},
   "outputs": [
    {
     "ename": "TypeError",
     "evalue": "can't multiply sequence by non-int of type 'str'",
     "output_type": "error",
     "traceback": [
      "\u001b[1;31m---------------------------------------------------------------------------\u001b[0m",
      "\u001b[1;31mTypeError\u001b[0m                                 Traceback (most recent call last)",
      "\u001b[1;32m<ipython-input-50-bbec279155b4>\u001b[0m in \u001b[0;36m<module>\u001b[1;34m\u001b[0m\n\u001b[1;32m----> 1\u001b[1;33m \u001b[0mprint\u001b[0m\u001b[1;33m(\u001b[0m\u001b[0mFName\u001b[0m \u001b[1;33m*\u001b[0m \u001b[0mtext1\u001b[0m\u001b[1;33m)\u001b[0m\u001b[1;33m\u001b[0m\u001b[1;33m\u001b[0m\u001b[0m\n\u001b[0m",
      "\u001b[1;31mTypeError\u001b[0m: can't multiply sequence by non-int of type 'str'"
     ]
    }
   ],
   "source": [
    "print(FName * text1)  # String can't multiply sequence by non-int of type 'str'"
   ]
  },
  {
   "cell_type": "code",
   "execution_count": 51,
   "id": "ed71f454",
   "metadata": {},
   "outputs": [
    {
     "data": {
      "text/plain": [
       "'PrathamMehta'"
      ]
     },
     "execution_count": 51,
     "metadata": {},
     "output_type": "execute_result"
    }
   ],
   "source": [
    "FullName = FName + LName\n",
    "FullName"
   ]
  },
  {
   "cell_type": "code",
   "execution_count": 52,
   "id": "daac4e4b",
   "metadata": {},
   "outputs": [
    {
     "name": "stdout",
     "output_type": "stream",
     "text": [
      "Pratham Mehta\n"
     ]
    }
   ],
   "source": [
    "# Since there was no space, we can use this format\n",
    "FullName = FName + \" \" + LName\n",
    "print(FullName)"
   ]
  },
  {
   "cell_type": "code",
   "execution_count": 53,
   "id": "a1c57efe",
   "metadata": {},
   "outputs": [
    {
     "name": "stdout",
     "output_type": "stream",
     "text": [
      "Pratham Mehta\n"
     ]
    }
   ],
   "source": [
    "# Alternative method to achieve the above \n",
    "FullName = print(FName, LName)\n",
    "FullName"
   ]
  },
  {
   "cell_type": "markdown",
   "id": "db9c3186",
   "metadata": {},
   "source": [
    "## Loops in Python"
   ]
  },
  {
   "cell_type": "markdown",
   "id": "9d4581fd",
   "metadata": {},
   "source": [
    "1. For loop - we know how many time the task should be repeated.\n",
    "2. While loop - Repeat the task as long as a condition is true."
   ]
  },
  {
   "cell_type": "code",
   "execution_count": 54,
   "id": "e9560ef5",
   "metadata": {},
   "outputs": [
    {
     "name": "stdout",
     "output_type": "stream",
     "text": [
      "0\n",
      "1\n",
      "2\n",
      "3\n",
      "4\n",
      "5\n",
      "6\n",
      "7\n",
      "8\n",
      "9\n",
      "10\n"
     ]
    }
   ],
   "source": [
    "# While Loop\n",
    "num = 0\n",
    "\n",
    "while num <= 10:  # As long as the value of num is less than or equal to 10\n",
    "    print(num)    # do this\n",
    "    num = num + 1 # and this will then go back to while statement to check the condition\n",
    "    "
   ]
  },
  {
   "cell_type": "code",
   "execution_count": 55,
   "id": "4edf0069",
   "metadata": {},
   "outputs": [
    {
     "data": {
      "text/plain": [
       "11"
      ]
     },
     "execution_count": 55,
     "metadata": {},
     "output_type": "execute_result"
    }
   ],
   "source": [
    "num"
   ]
  },
  {
   "cell_type": "code",
   "execution_count": 56,
   "id": "ad7bb197",
   "metadata": {},
   "outputs": [
    {
     "name": "stdout",
     "output_type": "stream",
     "text": [
      "['Pratham Mehta', 9819001133, 'Accounts', False]\n",
      "<class 'list'>\n"
     ]
    }
   ],
   "source": [
    "# For Loop  - we set how many times the task should repeat\n",
    "\n",
    "EmpRecord = ['Pratham Mehta', 9819001133, 'Accounts', False]\n",
    "\n",
    "# the above variable is a list, list is variable which can contain multiple elements of same or different data types.\n",
    "# The elements are always defined bracket and separated by commas.\n",
    "\n",
    "print(EmpRecord)\n",
    "print(type(EmpRecord))"
   ]
  },
  {
   "cell_type": "code",
   "execution_count": 59,
   "id": "3bd0378e",
   "metadata": {},
   "outputs": [
    {
     "name": "stdout",
     "output_type": "stream",
     "text": [
      "Pratham Mehta\n"
     ]
    }
   ],
   "source": [
    "# Items of a list can be accessed using indexing\n",
    "\n",
    "# From Left to Right, the position/index of the items start with 0,1,2,3.......\n",
    "# From Right to Left, the position/index of the items start with -1,-2,-3.......\n",
    "\n",
    "# Fetch the 1st item from the list\n",
    "print(EmpRecord[0])"
   ]
  },
  {
   "cell_type": "code",
   "execution_count": 61,
   "id": "70330451",
   "metadata": {},
   "outputs": [
    {
     "name": "stdout",
     "output_type": "stream",
     "text": [
      "False\n",
      "False\n"
     ]
    }
   ],
   "source": [
    "# Question-> print the last element of the list\n",
    "\n",
    "print(EmpRecord[-1])\n",
    "print(EmpRecord[3])"
   ]
  },
  {
   "cell_type": "code",
   "execution_count": 63,
   "id": "e34e739b",
   "metadata": {},
   "outputs": [
    {
     "name": "stdout",
     "output_type": "stream",
     "text": [
      "['Pratham Mehta', 9819001133]\n"
     ]
    }
   ],
   "source": [
    "# We can also print elements from a range of indices\n",
    "\n",
    "print(EmpRecord[0:2]) # In a range, the upper is excluded    (0: Upper - 1)"
   ]
  },
  {
   "cell_type": "code",
   "execution_count": 66,
   "id": "8e918b5d",
   "metadata": {},
   "outputs": [
    {
     "name": "stdout",
     "output_type": "stream",
     "text": [
      "['Pratham Mehta', 9819001133, 'Accounts', False]\n"
     ]
    }
   ],
   "source": [
    "# If u want to print all the data so basically take an any number exceeding the limit of the datatype\n",
    "print(EmpRecord[0:100])"
   ]
  },
  {
   "cell_type": "markdown",
   "id": "35a4339d",
   "metadata": {},
   "source": [
    "# Write a program in Python to create a calculator."
   ]
  },
  {
   "cell_type": "code",
   "execution_count": 75,
   "id": "d956cbb7",
   "metadata": {},
   "outputs": [
    {
     "name": "stdout",
     "output_type": "stream",
     "text": [
      "Enter the 1st Number: 5\n",
      "Enter the 2nd Number: 4\n",
      "Select the operation: 1 for Addition, 2 for Substraction, 3 for Multiplication and 4 for Division: 4\n",
      "1.25\n"
     ]
    }
   ],
   "source": [
    "# Ask the user to enter the 1st Number\n",
    "X = int(input(\"Enter the 1st Number: \"))\n",
    "\n",
    "# input is used for inputing the user data into the variable\n",
    "\n",
    "# Ask the user to enter the 2nd Number\n",
    "y = int(input(\"Enter the 2nd Number: \"))\n",
    "\n",
    "# Ask what operation to perform\n",
    "option = int(input(\"Select the operation: 1 for Addition, 2 for Substraction, 3 for Multiplication and 4 for Division: \"))\n",
    "# input will accept the data in string format, so typecast it into integer datatype\n",
    "\n",
    "# use if-else statement to perform the operation based on the user's choice\n",
    "\n",
    "if option == 1:\n",
    "    result = X + y\n",
    "    print(result)\n",
    "    \n",
    "elif option == 2:\n",
    "    result = X - y\n",
    "    print(result)\n",
    "\n",
    "elif option == 3:\n",
    "    result = X * y\n",
    "    print(result)\n",
    "    \n",
    "elif option == 4:\n",
    "    result = X / y\n",
    "    print(result)\n",
    "    \n",
    "else:\n",
    "    print(\"Invalid Option\")"
   ]
  },
  {
   "cell_type": "code",
   "execution_count": null,
   "id": "2d2bccdc",
   "metadata": {},
   "outputs": [],
   "source": []
  }
 ],
 "metadata": {
  "kernelspec": {
   "display_name": "Python 3",
   "language": "python",
   "name": "python3"
  },
  "language_info": {
   "codemirror_mode": {
    "name": "ipython",
    "version": 3
   },
   "file_extension": ".py",
   "mimetype": "text/x-python",
   "name": "python",
   "nbconvert_exporter": "python",
   "pygments_lexer": "ipython3",
   "version": "3.8.8"
  }
 },
 "nbformat": 4,
 "nbformat_minor": 5
}
